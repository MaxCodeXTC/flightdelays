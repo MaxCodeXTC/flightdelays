{
 "cells": [
  {
   "cell_type": "markdown",
   "metadata": {},
   "source": [
    "<hr>\n",
    "<H1 align=\"center\">Predicting Airline Delays for Airbnb</H1>\n",
    "<H3 align=\"center\">Two Risk Stratification Models</H3>\n",
    "<H4 align=\"center\">Isabel Hirama</H4>\n",
    "\n",
    "<hr>"
   ]
  },
  {
   "cell_type": "markdown",
   "metadata": {},
   "source": [
    "# Introduction\n",
    "\n",
    "The general aim of this project was to build a classification model for predicting domestic flight arrival delays.  I decided to narrow down that aim into a more specific ojective, in order to guide my progress and make it easy to assess improvement. \n",
    "\n",
    "The ultimate goal I settled on was to create a two-model tool to help Airbnb employees traveling between offices to book on-time flights, and to monitor their likelihood of delay on the day of travel. Given these purposes, I decided that a four-level risk forecast for delays would be more valuable to users than a binary prediction, so I built my models accordingly.\n",
    "\n",
    "In this write-up, I'll go through my process of defining this goal, developing a set of variables, defining success metrics, and building and evaluation two models. If you want to skip straight to where the R code starts, scroll down to the \"Loading the Data\" section.\n",
    "\n",
    "**Data Sources:** Dept. of Transportation <a href=\"https://transtats.bts.gov/Tables.asp?DB_ID=120&DB_Name=Airline%20On-Time%20Performance%20Data&DB_Short_Name=On-Time\">Airline On-Time Performance Data</a>, National Oceanic and Atmospheric Administration <a href=\"https://www.ncdc.noaa.gov/cdo-web/search\">Climate Data Online Search </a>  \n",
    "**Tools used:** R, MySQL, Excel Macros\n"
   ]
  },
  {
   "cell_type": "markdown",
   "metadata": {},
   "source": [
    "# Goal Definition"
   ]
  },
  {
   "cell_type": "markdown",
   "metadata": {},
   "source": [
    "### Choosing Cities\n",
    "\n",
    "I decided to limit my analysis to certain cities, both because of the sheer size of the data files, and because some models can't handle categorical variables with more than a certain number of levels.\n",
    "\n",
    "My dream job is to be a data scientist at Airbnb, so I decided to pick the three US cities where Airbnb has major offices. I also added Washington DC, the area I'm from, since I imagine Airbnb executives travel often to the capital for policy discussions and press events.\n"
   ]
  },
  {
   "cell_type": "markdown",
   "metadata": {},
   "source": [
    "<img src=\"https://lh3.googleusercontent.com/86jljDe8ON5TmiQ1gjHjgr2t__XXzRu0-qJ3A6dbLPDq_iHp6fujwLNaFEKp2wvKiYJfAJ9BGzYBkPj0EQSRQ78wZDQiK1zwBK77cGcgxqwcDqRB8Tq8DyIuWxiIUOfZldQcPAs-MTGWIcwMVyUi_kdqvIe3DisSOKyvgigAclMum13yoaANbGBiBBoKZwccnafBr3jOfYTVMK4r6aA91xCY3TwRq9Yqo6Gazp00LIaEZuerFoUJ3_6ne39_K_AfMSDFdSXwZi4AGqwgUxSh8pvQBkeK-aRwo_g7_gkn8dNo3vdo7WtxK1Dn2uJEXFpchsgvg38aFO6mIKRL4cFHoA56iGjfwsGqUzj8SL87BQdeZ0078DRETyQquei6HK-JeiM6FOfi5RucV4vWdgZlg_Ou0vQSGdDT9o5si7nTmnPyiABnE2tlPhjdqe28G1hn1YDghRfxIb7kSqdPB_zbAts4YBFLwRfdp4jdLnHAtLOO9xppSjVnMOEE9zfy2CmjLqrMgD-t8TNWRERg6436c7Q_Vhp-yEhmFOrVIptk8Qab8IbSWWifZY9jd3osJdCnfr5STQAfNA0EQYvU5RP0c99fyiTFyIPqt4HArXId8ls6gMjufJhb=w2485-h682-no\", style=\"width: 70%; height: 70%\">"
   ]
  },
  {
   "cell_type": "markdown",
   "metadata": {},
   "source": [
    "<img src=\"https://lh3.googleusercontent.com/KuAoEPu-MyYW88NYKGs1aiw9v-tcOViic7mCO3o8LDKBynIvuyCQiFnIu1wHjBQ1W8ZBuV4x7YzkaFb34wsZLQiMXF_KA3_ABnF7VEU_rJ4N_l--U-eugywv9cJrTeYoZFFiLusbTH62HERTWvDQlSl7nvL5xd2GODVjk3pbTB-7Gxz5JxkZFQx2ZlhD2KD7OQM1MTt_sBotAuGYw1_Xz0ffinMgdoWDBvZfQN_e5MoPqkRYp2T9owD_bZ4zrIaS-0otNxRZbpPC0fV9B_n4C6t9_uqkmzUPEPDgQA_16f7hfSfxIe6th3LCWOmaeFhyGniGDeq975tajwyIEO8hnUW9H_-ZnJM6Fd9L9gfMLMIs80qp8yxP56uaczsu7HcwL7tw2597xigd85uXUcYzBNAKIo6R1-0wvUJk-ZrVqZ7NwhWniPIxzK5MeHTsOyuxDbmzVIAMTpbKBwdE6fm24-HF3OZ77BaxQlda_crnhMS8jUdlFD3f0kXpb_jBEl637_sr4PDxgYX4OWDOaZsch-TedRSrp0aUETGhORNrhvXyCvzXNW3ucZ1qZGH2bQbwjRIn9u1RyQeMfQNYA4rcWgMFanC2sla14kuorptwxjEjQEeb55Ud=w1730-h850-no\", style=\"width: 70%; height: 70%\">"
   ]
  },
  {
   "cell_type": "markdown",
   "metadata": {},
   "source": [
    "<center>* **Top:** Airbnb's major US offices. **Bottom:** Airbnb CEO Brian Chesky speaks to the State Department in Washington DC in 2016.*</center>"
   ]
  },
  {
   "cell_type": "markdown",
   "metadata": {},
   "source": [
    "I used MySQL to pull flights where both the origin and destination were among the seven airports that can be used to access the four cities:\n",
    "\n",
    "<blockquote><b>\n",
    "1. Seattle-Tacoma International (SEA) <br>\n",
    "2. Portland International (PDX)<br>\n",
    "3. San Francisco International (SFO)<br>\n",
    "4. Oakland International (OAK)<br>\n",
    "5. San Jose International (SJC)<br>\n",
    "6. Dulles International (IAD)<br>\n",
    "7. Ronald Reagan Washington National (DCA)<br>\n",
    "</b></blockquote>"
   ]
  },
  {
   "cell_type": "markdown",
   "metadata": {},
   "source": [
    "<img src=\"https://lh3.googleusercontent.com/iE0NDnC81KpvCpyY6z7zEfQcdFRDzYXdKLARQ28N7yO8rmQDMPRclzM-1LCNTGESK491rOlB7S_d3IQM97LNh4UogTxmoLUiZMuPPb3dk_mV0uIX_pDGWpLvl__LgZ8e9oONislsWiwI-lJTELtUbMnviywlTF_3F9xpDaCW7a5wxnakQ00i07xiot6ojFdsKrmODEDnff8lvXEh20_C_z3OzCNVSeLi1Wl_4PrKyfqJXxi8NM0Yhpv8m40OJIDNI1kmYllW-NHiHE-aL8AUoxxngijXSuzsqgNYOMjDSMnRrhoYL-jGLbCBwK8_bJAOIRGRdMdb-4MZl5fk9kTvln_hDpYqncHk2n4gjEywBVL1d88qWrg6OTGrcvzvL6EbhW8ns_UpcZzQNLD9V8Koez9lDAF5SK3gLgoJsiKuVsx3EHX49CO2sF_JKwGRgnltjBMnHq_ejFC7W1wRsSYwIDnyhfNQTnUAvaPuNgTaimhBmLVcArAYNPqwUAgFTHBgQSXlKIKqVBWsSLPBl-YXu_HjRV8JuncoxInjHmaJ2967ACGzlph2lIutrOUuGfq3bsNuuXdM2pV3aEKuvXa5iAd1Xjo7zuUAJaZUPe3FRD3GctsdOHg0=w1568-h820-no\", style=\"width: 100%; height: 100%\">"
   ]
  },
  {
   "cell_type": "markdown",
   "metadata": {},
   "source": [
    "<center>*The seven airports used in this project.*</center>"
   ]
  },
  {
   "cell_type": "markdown",
   "metadata": {},
   "source": [
    "### Two Models"
   ]
  },
  {
   "cell_type": "markdown",
   "metadata": {},
   "source": [
    "I wanted to building something that could actually be useful to Airbnb employees. So when would Airbnb-ers use a flight delay predictor tool and why? Perhaps either when booking flight tickets between offices days/weeks/months in advance, or on the day of travel, to be able to give colleagues a heads up if they were likely to be late for a meeting.\n",
    "\n",
    "The information available in these two scenerios is quite different, so I set myself the goal of building two models:\n",
    "<blockquote>\n",
    "   **Basic Model:** to be used when booking flights, at any point in advance of travel dates.<br><br>\n",
    "\n",
    "   **Day-Of Model:** to be checked three hours before a flight's departure, around the time the traveler may be heading to the airport.\n",
    "   </blockquote>\n"
   ]
  },
  {
   "cell_type": "markdown",
   "metadata": {},
   "source": [
    "# Choosing and Creating Variables"
   ]
  },
  {
   "cell_type": "markdown",
   "metadata": {},
   "source": [
    "### Overview\n",
    "For both models, my chosen target variable was **ArrDel15**, a binary variable indicating whether a flight's arrival was delayed by 15 minutes or more. Anything less than a 15 minute delay would likely not significantly hamper travel plans.\n",
    "\n",
    "I used 17 predictor variables for the Basic Model, and an additional 6 for the Day-Of Model (23 total). Outlined below, these variables fall into five categories, indicated by prefixes:\n",
    "  "
   ]
  },
  {
   "cell_type": "markdown",
   "metadata": {},
   "source": [
    "<img src=\"\n",
    "https://lh3.googleusercontent.com/ob7bl02_78TV52Q9aGy0dC6QVO1T17qMrSSXjqPkhUlmMhlPEvquEMK8tRibUKp60MbDFSRZpoxc0UnNsz_UtSglS5cnzcvEbYYnXkpsFH_h-2lmeeK58jjJO8FoKjW-JsSzInXTTnraSD0RLnoH-qLk3BiGHazoPedK6FmpX0zdhEo0d5MeTXfpCLPmpQyfiJ1EtkHl0MeN3OpBtF2YLpMLdNKbTUwECxgZp4mco5nmsdYYltzjwJMl1O32jDQ_L9XbFg1rgzy0MPuJevD69yjqDahXqntgoydAfwfxPD5fAn9Jxfq_CPhBJllqA-O5Zba4ogdxlw4rQ5VW4d5q1Y7Im94VUwcx6drDxckZPbjWy26b9uAc2BPAs2VV-VcQvRNVMlgyWQCjsaGOoWyPx6m8O8TZiw1XZYclEBstPRYs6SQnv7m9hdSoo0c6chQFfSffMZRM-fWf0Fbf0g_VtAs_DASxDBDDMK0QE0ruHFnoGXT5MOLv5wODIH_D3blXFYtOKyxVTfY6nD1nQXA32Wk9f8K5ENenV43lRLXSbV8aKV8hZHMNCjNebYvv9F2KUYIz2LWYjfKmNlILHjcTTqmVUdbk77fZ7LN7YgSMhVo3NFNFKoqA=w1546-h617-no\", style=\"width: 80%; height: 80%\">\n",
    "\n",
    "<center>* **Note:** Calcuated variables were created using a mix of R, MySQL and Excel <del>messiness</del>  magic.*</center>\n"
   ]
  },
  {
   "cell_type": "markdown",
   "metadata": {},
   "source": [
    "### Loading the Data\n",
    "Let's bring in the data for the Basic and Day-Of models, and take a closer look."
   ]
  },
  {
   "cell_type": "code",
   "execution_count": 1,
   "metadata": {
    "collapsed": true
   },
   "outputs": [],
   "source": [
    "suppressWarnings(library(chron))\n",
    "\n",
    "###Read in data for basic model\n",
    "basicvars = read.csv('basic.csv')\n",
    "\n",
    "###Set variable types for those that aren't correctly set automatically\n",
    "basicvars$XX_MonthAndDay = as.Date(basicvars$XX_MonthAndDay, \"%m/%d/%Y\")\n",
    "basicvars$X_DepTimeBlk = chron(times = basicvars$X_DepTimeBlk)\n",
    "basicvars$X_ArrTimeBlk = chron(times = basicvars$X_ArrTimeBlk)\n",
    "basicvars$X_DestAirportID = as.factor(basicvars$X_DestAirportID)\n",
    "basicvars$X_OriginAirportID = as.factor(basicvars$X_OriginAirportID)\n",
    "basicvars$XX_PeakDate = as.factor(basicvars$XX_PeakDate)\n",
    "basicvars$X_Month = as.factor(basicvars$X_Month)"
   ]
  },
  {
   "cell_type": "code",
   "execution_count": 2,
   "metadata": {
    "scrolled": true
   },
   "outputs": [
    {
     "data": {
      "text/html": [
       "<ol class=list-inline>\n",
       "\t<li>137351</li>\n",
       "\t<li>18</li>\n",
       "</ol>\n"
      ],
      "text/latex": [
       "\\begin{enumerate*}\n",
       "\\item 137351\n",
       "\\item 18\n",
       "\\end{enumerate*}\n"
      ],
      "text/markdown": [
       "1. 137351\n",
       "2. 18\n",
       "\n",
       "\n"
      ],
      "text/plain": [
       "[1] 137351     18"
      ]
     },
     "metadata": {},
     "output_type": "display_data"
    }
   ],
   "source": [
    "dim(basicvars)"
   ]
  },
  {
   "cell_type": "code",
   "execution_count": 3,
   "metadata": {
    "scrolled": true
   },
   "outputs": [
    {
     "data": {
      "text/html": [
       "<table>\n",
       "<thead><tr><th scope=col>X_OriginAirportID</th><th scope=col>X_DestAirportID</th><th scope=col>X_UniqueCarrier</th><th scope=col>X_DepTimeBlk</th><th scope=col>X_ArrTimeBlk</th><th scope=col>X_CRSElapsedTime</th><th scope=col>X_Month</th><th scope=col>X_DayofMonth</th><th scope=col>X_DayOfWeek</th><th scope=col>XX_MonthAndDay</th><th scope=col>XX_Route</th><th scope=col>XX_PeakDate</th><th scope=col>XX_OriginAvgArrDel15</th><th scope=col>XX_DestAvgArrDel15</th><th scope=col>XX_RouteAvgArrDel15</th><th scope=col>XX_MonthlyRouteAvgArrDel15</th><th scope=col>XX_MonthlyRouteAvgArrDelMinutes</th><th scope=col>Y_ArrDel15</th></tr></thead>\n",
       "<tbody>\n",
       "\t<tr><td>14771        </td><td>11278        </td><td>VX           </td><td>08:00:00     </td><td>16:00:00     </td><td>310          </td><td>10           </td><td> 1           </td><td>4            </td><td>1904-10-01   </td><td>14771 - 11278</td><td>0            </td><td>0.2107       </td><td>0.1804       </td><td>0.1709       </td><td>0.1048       </td><td>7.0081       </td><td>1            </td></tr>\n",
       "\t<tr><td>14747        </td><td>11278        </td><td>AS           </td><td>08:00:00     </td><td>16:00:00     </td><td>310          </td><td>10           </td><td> 1           </td><td>4            </td><td>1904-10-01   </td><td>14747 - 11278</td><td>0            </td><td>0.1629       </td><td>0.1804       </td><td>0.1644       </td><td>0.0484       </td><td>2.1290       </td><td>0            </td></tr>\n",
       "\t<tr><td>14057        </td><td>11278        </td><td>AS           </td><td>09:00:00     </td><td>17:00:00     </td><td>304          </td><td>10           </td><td> 1           </td><td>4            </td><td>1904-10-01   </td><td>14057 - 11278</td><td>0            </td><td>0.1410       </td><td>0.1804       </td><td>0.1094       </td><td>0.0484       </td><td>1.4032       </td><td>0            </td></tr>\n",
       "\t<tr><td>14747        </td><td>11278        </td><td>AS           </td><td>13:00:00     </td><td>21:00:00     </td><td>304          </td><td>10           </td><td> 1           </td><td>4            </td><td>1904-10-01   </td><td>14747 - 11278</td><td>0            </td><td>0.1629       </td><td>0.1804       </td><td>0.1644       </td><td>0.0484       </td><td>2.1290       </td><td>0            </td></tr>\n",
       "\t<tr><td>14771        </td><td>11278        </td><td>UA           </td><td>14:00:00     </td><td>22:00:00     </td><td>316          </td><td>10           </td><td> 1           </td><td>4            </td><td>1904-10-01   </td><td>14771 - 11278</td><td>0            </td><td>0.2107       </td><td>0.1804       </td><td>0.1709       </td><td>0.1048       </td><td>7.0081       </td><td>0            </td></tr>\n",
       "\t<tr><td>14771        </td><td>11278        </td><td>VX           </td><td>08:00:00     </td><td>16:00:00     </td><td>305          </td><td>10           </td><td>10           </td><td>6            </td><td>1904-10-10   </td><td>14771 - 11278</td><td>0            </td><td>0.2107       </td><td>0.1804       </td><td>0.1709       </td><td>0.1048       </td><td>7.0081       </td><td>0            </td></tr>\n",
       "</tbody>\n",
       "</table>\n"
      ],
      "text/latex": [
       "\\begin{tabular}{r|llllllllllllllllll}\n",
       " X\\_OriginAirportID & X\\_DestAirportID & X\\_UniqueCarrier & X\\_DepTimeBlk & X\\_ArrTimeBlk & X\\_CRSElapsedTime & X\\_Month & X\\_DayofMonth & X\\_DayOfWeek & XX\\_MonthAndDay & XX\\_Route & XX\\_PeakDate & XX\\_OriginAvgArrDel15 & XX\\_DestAvgArrDel15 & XX\\_RouteAvgArrDel15 & XX\\_MonthlyRouteAvgArrDel15 & XX\\_MonthlyRouteAvgArrDelMinutes & Y\\_ArrDel15\\\\\n",
       "\\hline\n",
       "\t 14771         & 11278         & VX            & 08:00:00      & 16:00:00      & 310           & 10            &  1            & 4             & 1904-10-01    & 14771 - 11278 & 0             & 0.2107        & 0.1804        & 0.1709        & 0.1048        & 7.0081        & 1            \\\\\n",
       "\t 14747         & 11278         & AS            & 08:00:00      & 16:00:00      & 310           & 10            &  1            & 4             & 1904-10-01    & 14747 - 11278 & 0             & 0.1629        & 0.1804        & 0.1644        & 0.0484        & 2.1290        & 0            \\\\\n",
       "\t 14057         & 11278         & AS            & 09:00:00      & 17:00:00      & 304           & 10            &  1            & 4             & 1904-10-01    & 14057 - 11278 & 0             & 0.1410        & 0.1804        & 0.1094        & 0.0484        & 1.4032        & 0            \\\\\n",
       "\t 14747         & 11278         & AS            & 13:00:00      & 21:00:00      & 304           & 10            &  1            & 4             & 1904-10-01    & 14747 - 11278 & 0             & 0.1629        & 0.1804        & 0.1644        & 0.0484        & 2.1290        & 0            \\\\\n",
       "\t 14771         & 11278         & UA            & 14:00:00      & 22:00:00      & 316           & 10            &  1            & 4             & 1904-10-01    & 14771 - 11278 & 0             & 0.2107        & 0.1804        & 0.1709        & 0.1048        & 7.0081        & 0            \\\\\n",
       "\t 14771         & 11278         & VX            & 08:00:00      & 16:00:00      & 305           & 10            & 10            & 6             & 1904-10-10    & 14771 - 11278 & 0             & 0.2107        & 0.1804        & 0.1709        & 0.1048        & 7.0081        & 0            \\\\\n",
       "\\end{tabular}\n"
      ],
      "text/markdown": [
       "\n",
       "X_OriginAirportID | X_DestAirportID | X_UniqueCarrier | X_DepTimeBlk | X_ArrTimeBlk | X_CRSElapsedTime | X_Month | X_DayofMonth | X_DayOfWeek | XX_MonthAndDay | XX_Route | XX_PeakDate | XX_OriginAvgArrDel15 | XX_DestAvgArrDel15 | XX_RouteAvgArrDel15 | XX_MonthlyRouteAvgArrDel15 | XX_MonthlyRouteAvgArrDelMinutes | Y_ArrDel15 | \n",
       "|---|---|---|---|---|---|\n",
       "| 14771         | 11278         | VX            | 08:00:00      | 16:00:00      | 310           | 10            |  1            | 4             | 1904-10-01    | 14771 - 11278 | 0             | 0.2107        | 0.1804        | 0.1709        | 0.1048        | 7.0081        | 1             | \n",
       "| 14747         | 11278         | AS            | 08:00:00      | 16:00:00      | 310           | 10            |  1            | 4             | 1904-10-01    | 14747 - 11278 | 0             | 0.1629        | 0.1804        | 0.1644        | 0.0484        | 2.1290        | 0             | \n",
       "| 14057         | 11278         | AS            | 09:00:00      | 17:00:00      | 304           | 10            |  1            | 4             | 1904-10-01    | 14057 - 11278 | 0             | 0.1410        | 0.1804        | 0.1094        | 0.0484        | 1.4032        | 0             | \n",
       "| 14747         | 11278         | AS            | 13:00:00      | 21:00:00      | 304           | 10            |  1            | 4             | 1904-10-01    | 14747 - 11278 | 0             | 0.1629        | 0.1804        | 0.1644        | 0.0484        | 2.1290        | 0             | \n",
       "| 14771         | 11278         | UA            | 14:00:00      | 22:00:00      | 316           | 10            |  1            | 4             | 1904-10-01    | 14771 - 11278 | 0             | 0.2107        | 0.1804        | 0.1709        | 0.1048        | 7.0081        | 0             | \n",
       "| 14771         | 11278         | VX            | 08:00:00      | 16:00:00      | 305           | 10            | 10            | 6             | 1904-10-10    | 14771 - 11278 | 0             | 0.2107        | 0.1804        | 0.1709        | 0.1048        | 7.0081        | 0             | \n",
       "\n",
       "\n"
      ],
      "text/plain": [
       "  X_OriginAirportID X_DestAirportID X_UniqueCarrier X_DepTimeBlk X_ArrTimeBlk\n",
       "1 14771             11278           VX              08:00:00     16:00:00    \n",
       "2 14747             11278           AS              08:00:00     16:00:00    \n",
       "3 14057             11278           AS              09:00:00     17:00:00    \n",
       "4 14747             11278           AS              13:00:00     21:00:00    \n",
       "5 14771             11278           UA              14:00:00     22:00:00    \n",
       "6 14771             11278           VX              08:00:00     16:00:00    \n",
       "  X_CRSElapsedTime X_Month X_DayofMonth X_DayOfWeek XX_MonthAndDay\n",
       "1 310              10       1           4           1904-10-01    \n",
       "2 310              10       1           4           1904-10-01    \n",
       "3 304              10       1           4           1904-10-01    \n",
       "4 304              10       1           4           1904-10-01    \n",
       "5 316              10       1           4           1904-10-01    \n",
       "6 305              10      10           6           1904-10-10    \n",
       "  XX_Route      XX_PeakDate XX_OriginAvgArrDel15 XX_DestAvgArrDel15\n",
       "1 14771 - 11278 0           0.2107               0.1804            \n",
       "2 14747 - 11278 0           0.1629               0.1804            \n",
       "3 14057 - 11278 0           0.1410               0.1804            \n",
       "4 14747 - 11278 0           0.1629               0.1804            \n",
       "5 14771 - 11278 0           0.2107               0.1804            \n",
       "6 14771 - 11278 0           0.2107               0.1804            \n",
       "  XX_RouteAvgArrDel15 XX_MonthlyRouteAvgArrDel15\n",
       "1 0.1709              0.1048                    \n",
       "2 0.1644              0.0484                    \n",
       "3 0.1094              0.0484                    \n",
       "4 0.1644              0.0484                    \n",
       "5 0.1709              0.1048                    \n",
       "6 0.1709              0.1048                    \n",
       "  XX_MonthlyRouteAvgArrDelMinutes Y_ArrDel15\n",
       "1 7.0081                          1         \n",
       "2 2.1290                          0         \n",
       "3 1.4032                          0         \n",
       "4 2.1290                          0         \n",
       "5 7.0081                          0         \n",
       "6 7.0081                          0         "
      ]
     },
     "metadata": {},
     "output_type": "display_data"
    }
   ],
   "source": [
    "head(basicvars)"
   ]
  },
  {
   "cell_type": "code",
   "execution_count": 4,
   "metadata": {
    "collapsed": true
   },
   "outputs": [],
   "source": [
    "###Read in data for day-of model\n",
    "dayofvars = read.csv('dayof.csv')\n",
    "\n",
    "###Set variable types for those that aren't correctly set automatically\n",
    "dayofvars$XX_MonthAndDay = as.Date(dayofvars$XX_MonthAndDay, \"%m/%d/%Y\")\n",
    "dayofvars$X_ArrTimeBlk = chron(times = dayofvars$X_ArrTimeBlk)\n",
    "dayofvars$X_DepTimeBlk = chron(times = dayofvars$X_DepTimeBlk)\n",
    "dayofvars$X_DestAirportID = as.factor(dayofvars$X_DestAirportID)\n",
    "dayofvars$X_OriginAirportID = as.factor(dayofvars$X_OriginAirportID)\n",
    "dayofvars$XX_PeakDate = as.factor(dayofvars$XX_PeakDate)\n",
    "dayofvars$X_Month = as.factor(dayofvars$X_Month)\n"
   ]
  },
  {
   "cell_type": "code",
   "execution_count": 5,
   "metadata": {},
   "outputs": [
    {
     "data": {
      "text/html": [
       "<ol class=list-inline>\n",
       "\t<li>137351</li>\n",
       "\t<li>24</li>\n",
       "</ol>\n"
      ],
      "text/latex": [
       "\\begin{enumerate*}\n",
       "\\item 137351\n",
       "\\item 24\n",
       "\\end{enumerate*}\n"
      ],
      "text/markdown": [
       "1. 137351\n",
       "2. 24\n",
       "\n",
       "\n"
      ],
      "text/plain": [
       "[1] 137351     24"
      ]
     },
     "metadata": {},
     "output_type": "display_data"
    }
   ],
   "source": [
    "dim(dayofvars)"
   ]
  },
  {
   "cell_type": "code",
   "execution_count": 6,
   "metadata": {},
   "outputs": [
    {
     "data": {
      "text/html": [
       "<table>\n",
       "<thead><tr><th scope=col>X_OriginAirportID</th><th scope=col>X_DestAirportID</th><th scope=col>X_UniqueCarrier</th><th scope=col>X_DepTimeBlk</th><th scope=col>X_ArrTimeBlk</th><th scope=col>X_CRSElapsedTime</th><th scope=col>X_Month</th><th scope=col>X_DayofMonth</th><th scope=col>X_DayOfWeek</th><th scope=col>XX_MonthAndDay</th><th scope=col>...</th><th scope=col>XX_RouteAvgArrDel15</th><th scope=col>XX_MonthlyRouteAvgArrDel15</th><th scope=col>XX_MonthlyRouteAvgArrDelMinutes</th><th scope=col>XXX_AircraftArrDel_3Before</th><th scope=col>XXX_ArrDelToday_3Before</th><th scope=col>W_OriginWindSpeed</th><th scope=col>W_DestWindSpeed</th><th scope=col>W_OriginPrecip</th><th scope=col>W_DestPrecip</th><th scope=col>Y_ArrDel15</th></tr></thead>\n",
       "<tbody>\n",
       "\t<tr><td>14747     </td><td>13796     </td><td>WN        </td><td>14:00:00  </td><td>16:00:00  </td><td>120       </td><td>11        </td><td>20        </td><td>5         </td><td>1904-11-20</td><td>...       </td><td>0.1905    </td><td>0.1651    </td><td> 7.9381   </td><td>1         </td><td>0.0000000 </td><td>4.0       </td><td>2.3       </td><td> 0.0      </td><td>0.0       </td><td>0         </td></tr>\n",
       "\t<tr><td>14747     </td><td>13796     </td><td>WN        </td><td>10:00:00  </td><td>12:00:00  </td><td>125       </td><td>11        </td><td>27        </td><td>5         </td><td>1904-11-27</td><td>...       </td><td>0.1905    </td><td>0.1651    </td><td> 7.9381   </td><td>0         </td><td>0.0000000 </td><td>3.0       </td><td>2.9       </td><td> 0.0      </td><td>0.0       </td><td>0         </td></tr>\n",
       "\t<tr><td>13796     </td><td>14747     </td><td>WN        </td><td>13:00:00  </td><td>15:00:00  </td><td>120       </td><td>11        </td><td> 3        </td><td>2         </td><td>1904-11-03</td><td>...       </td><td>0.2105    </td><td>0.1651    </td><td> 9.1394   </td><td>0         </td><td>0.1764706 </td><td>3.5       </td><td>1.4       </td><td> 0.0      </td><td>0.8       </td><td>0         </td></tr>\n",
       "\t<tr><td>14747     </td><td>13796     </td><td>WN        </td><td>16:00:00  </td><td>18:00:00  </td><td>120       </td><td>11        </td><td> 3        </td><td>2         </td><td>1904-11-03</td><td>...       </td><td>0.1905    </td><td>0.1651    </td><td> 7.9381   </td><td>0         </td><td>0.1666667 </td><td>1.4       </td><td>3.5       </td><td> 0.8      </td><td>0.0       </td><td>0         </td></tr>\n",
       "\t<tr><td>14747     </td><td>14831     </td><td>WN        </td><td>17:00:00  </td><td>19:00:00  </td><td>125       </td><td>7         </td><td>30        </td><td>4         </td><td>1904-07-30</td><td>...       </td><td>0.1582    </td><td>0.1571    </td><td>10.3861   </td><td>0         </td><td>0.1428571 </td><td>3.5       </td><td>5.9       </td><td> 0.0      </td><td>0.0       </td><td>1         </td></tr>\n",
       "\t<tr><td>14747     </td><td>13796     </td><td>WN        </td><td>15:00:00  </td><td>17:00:00  </td><td>125       </td><td>8         </td><td>14        </td><td>5         </td><td>1904-08-14</td><td>...       </td><td>0.1905    </td><td>0.2167    </td><td>11.5635   </td><td>1         </td><td>0.0000000 </td><td>5.2       </td><td>6.1       </td><td>30.5      </td><td>0.0       </td><td>1         </td></tr>\n",
       "</tbody>\n",
       "</table>\n"
      ],
      "text/latex": [
       "\\begin{tabular}{r|llllllllllllllllllllllll}\n",
       " X\\_OriginAirportID & X\\_DestAirportID & X\\_UniqueCarrier & X\\_DepTimeBlk & X\\_ArrTimeBlk & X\\_CRSElapsedTime & X\\_Month & X\\_DayofMonth & X\\_DayOfWeek & XX\\_MonthAndDay & ... & XX\\_RouteAvgArrDel15 & XX\\_MonthlyRouteAvgArrDel15 & XX\\_MonthlyRouteAvgArrDelMinutes & XXX\\_AircraftArrDel\\_3Before & XXX\\_ArrDelToday\\_3Before & W\\_OriginWindSpeed & W\\_DestWindSpeed & W\\_OriginPrecip & W\\_DestPrecip & Y\\_ArrDel15\\\\\n",
       "\\hline\n",
       "\t 14747      & 13796      & WN         & 14:00:00   & 16:00:00   & 120        & 11         & 20         & 5          & 1904-11-20 & ...        & 0.1905     & 0.1651     &  7.9381    & 1          & 0.0000000  & 4.0        & 2.3        &  0.0       & 0.0        & 0         \\\\\n",
       "\t 14747      & 13796      & WN         & 10:00:00   & 12:00:00   & 125        & 11         & 27         & 5          & 1904-11-27 & ...        & 0.1905     & 0.1651     &  7.9381    & 0          & 0.0000000  & 3.0        & 2.9        &  0.0       & 0.0        & 0         \\\\\n",
       "\t 13796      & 14747      & WN         & 13:00:00   & 15:00:00   & 120        & 11         &  3         & 2          & 1904-11-03 & ...        & 0.2105     & 0.1651     &  9.1394    & 0          & 0.1764706  & 3.5        & 1.4        &  0.0       & 0.8        & 0         \\\\\n",
       "\t 14747      & 13796      & WN         & 16:00:00   & 18:00:00   & 120        & 11         &  3         & 2          & 1904-11-03 & ...        & 0.1905     & 0.1651     &  7.9381    & 0          & 0.1666667  & 1.4        & 3.5        &  0.8       & 0.0        & 0         \\\\\n",
       "\t 14747      & 14831      & WN         & 17:00:00   & 19:00:00   & 125        & 7          & 30         & 4          & 1904-07-30 & ...        & 0.1582     & 0.1571     & 10.3861    & 0          & 0.1428571  & 3.5        & 5.9        &  0.0       & 0.0        & 1         \\\\\n",
       "\t 14747      & 13796      & WN         & 15:00:00   & 17:00:00   & 125        & 8          & 14         & 5          & 1904-08-14 & ...        & 0.1905     & 0.2167     & 11.5635    & 1          & 0.0000000  & 5.2        & 6.1        & 30.5       & 0.0        & 1         \\\\\n",
       "\\end{tabular}\n"
      ],
      "text/markdown": [
       "\n",
       "X_OriginAirportID | X_DestAirportID | X_UniqueCarrier | X_DepTimeBlk | X_ArrTimeBlk | X_CRSElapsedTime | X_Month | X_DayofMonth | X_DayOfWeek | XX_MonthAndDay | ... | XX_RouteAvgArrDel15 | XX_MonthlyRouteAvgArrDel15 | XX_MonthlyRouteAvgArrDelMinutes | XXX_AircraftArrDel_3Before | XXX_ArrDelToday_3Before | W_OriginWindSpeed | W_DestWindSpeed | W_OriginPrecip | W_DestPrecip | Y_ArrDel15 | \n",
       "|---|---|---|---|---|---|\n",
       "| 14747      | 13796      | WN         | 14:00:00   | 16:00:00   | 120        | 11         | 20         | 5          | 1904-11-20 | ...        | 0.1905     | 0.1651     |  7.9381    | 1          | 0.0000000  | 4.0        | 2.3        |  0.0       | 0.0        | 0          | \n",
       "| 14747      | 13796      | WN         | 10:00:00   | 12:00:00   | 125        | 11         | 27         | 5          | 1904-11-27 | ...        | 0.1905     | 0.1651     |  7.9381    | 0          | 0.0000000  | 3.0        | 2.9        |  0.0       | 0.0        | 0          | \n",
       "| 13796      | 14747      | WN         | 13:00:00   | 15:00:00   | 120        | 11         |  3         | 2          | 1904-11-03 | ...        | 0.2105     | 0.1651     |  9.1394    | 0          | 0.1764706  | 3.5        | 1.4        |  0.0       | 0.8        | 0          | \n",
       "| 14747      | 13796      | WN         | 16:00:00   | 18:00:00   | 120        | 11         |  3         | 2          | 1904-11-03 | ...        | 0.1905     | 0.1651     |  7.9381    | 0          | 0.1666667  | 1.4        | 3.5        |  0.8       | 0.0        | 0          | \n",
       "| 14747      | 14831      | WN         | 17:00:00   | 19:00:00   | 125        | 7          | 30         | 4          | 1904-07-30 | ...        | 0.1582     | 0.1571     | 10.3861    | 0          | 0.1428571  | 3.5        | 5.9        |  0.0       | 0.0        | 1          | \n",
       "| 14747      | 13796      | WN         | 15:00:00   | 17:00:00   | 125        | 8          | 14         | 5          | 1904-08-14 | ...        | 0.1905     | 0.2167     | 11.5635    | 1          | 0.0000000  | 5.2        | 6.1        | 30.5       | 0.0        | 1          | \n",
       "\n",
       "\n"
      ],
      "text/plain": [
       "  X_OriginAirportID X_DestAirportID X_UniqueCarrier X_DepTimeBlk X_ArrTimeBlk\n",
       "1 14747             13796           WN              14:00:00     16:00:00    \n",
       "2 14747             13796           WN              10:00:00     12:00:00    \n",
       "3 13796             14747           WN              13:00:00     15:00:00    \n",
       "4 14747             13796           WN              16:00:00     18:00:00    \n",
       "5 14747             14831           WN              17:00:00     19:00:00    \n",
       "6 14747             13796           WN              15:00:00     17:00:00    \n",
       "  X_CRSElapsedTime X_Month X_DayofMonth X_DayOfWeek XX_MonthAndDay ...\n",
       "1 120              11      20           5           1904-11-20     ...\n",
       "2 125              11      27           5           1904-11-27     ...\n",
       "3 120              11       3           2           1904-11-03     ...\n",
       "4 120              11       3           2           1904-11-03     ...\n",
       "5 125              7       30           4           1904-07-30     ...\n",
       "6 125              8       14           5           1904-08-14     ...\n",
       "  XX_RouteAvgArrDel15 XX_MonthlyRouteAvgArrDel15\n",
       "1 0.1905              0.1651                    \n",
       "2 0.1905              0.1651                    \n",
       "3 0.2105              0.1651                    \n",
       "4 0.1905              0.1651                    \n",
       "5 0.1582              0.1571                    \n",
       "6 0.1905              0.2167                    \n",
       "  XX_MonthlyRouteAvgArrDelMinutes XXX_AircraftArrDel_3Before\n",
       "1  7.9381                         1                         \n",
       "2  7.9381                         0                         \n",
       "3  9.1394                         0                         \n",
       "4  7.9381                         0                         \n",
       "5 10.3861                         0                         \n",
       "6 11.5635                         1                         \n",
       "  XXX_ArrDelToday_3Before W_OriginWindSpeed W_DestWindSpeed W_OriginPrecip\n",
       "1 0.0000000               4.0               2.3              0.0          \n",
       "2 0.0000000               3.0               2.9              0.0          \n",
       "3 0.1764706               3.5               1.4              0.0          \n",
       "4 0.1666667               1.4               3.5              0.8          \n",
       "5 0.1428571               3.5               5.9              0.0          \n",
       "6 0.0000000               5.2               6.1             30.5          \n",
       "  W_DestPrecip Y_ArrDel15\n",
       "1 0.0          0         \n",
       "2 0.0          0         \n",
       "3 0.8          0         \n",
       "4 0.0          0         \n",
       "5 0.0          1         \n",
       "6 0.0          1         "
      ]
     },
     "metadata": {},
     "output_type": "display_data"
    }
   ],
   "source": [
    "head(dayofvars)"
   ]
  },
  {
   "cell_type": "markdown",
   "metadata": {},
   "source": [
    "### Data Dictionary\n",
    "Now, an explanation of the variable names. The most important descriptions to read closely are the XX and XXX variables, as the rest are fairly self-explanatory."
   ]
  },
  {
   "cell_type": "markdown",
   "metadata": {},
   "source": [
    "<img src=\"\n",
    "https://lh3.googleusercontent.com/drLVF3NjflocGxR4spiPqMzgWSvP9xD8hLwhWM2F-JOlI5gjYSsj7Hf-jiVT1cfezRrou6B2sYMEmx3tWXveDogQToQX3GuJtMoVTPHMKh07JgQ-K-CDUkqlM5IY6ZyxgtM7mmqRf7nE8ayMloBR7xXIf_qalduSrf-zc5HqXTo5K_Mamd9ncE1VzNXLWpZ31OKOuD1K8N9QrFVA2rrDzkC4IwcrPmJLDRiLeb6hYOpSXDNmUAdOBsLb5zryNUc2vmykm9aLhre1ujbIjQ4prSvx5VQIlEWwDkTXoCbfjXXvZAXZ2ig-uuVBNkIn-RixVvdhqFVJ4i-prMn-YVPUyUN9wkPNyg_pgZ6OAUiLsW38pW5DYpEHFJ4q3piMxRFh_z4ZSOSlQ6aNcoDfy77WH6rE_BjrZVsYjN3aLpLyHorkslnWF2RBkEgXa0R1SbDWlrYDjNLNfBz-WoynKuJrPZJeur2buqZk-u-B4q0y43CraSJpbY6Ggj-aldS1toK1YsDlFRK3hgDF-6O1JZp_7han55_v4eBWX3LtZv6wzKqV2z05if1tFx30rgrnWsgwENkQurtU2PVubhPXUpmGuQIH9nSxJU_K0Hv-_plfPy05Ws91CCg9BSQdQXe7QNB-rhzgrU5izHj1TrBCaBxvAva4bWUdXrPNzkwR9_o5dA=w2213-h819-no\", style=\"width: 100%; height: 100%\">\n",
    "\n"
   ]
  },
  {
   "cell_type": "markdown",
   "metadata": {},
   "source": [
    "<img src=\"\n",
    "https://lh3.googleusercontent.com/O_0T8IcnWU-kXDi3_WOhLeD7mUvXX9YG87q56Wz8h1I9atSmuGRnIiG0LVrZxigJksRtqYcybJFDPrUoAmzxacb1xerFbJGpod6CFsqVm_9TajCB8hNEAZcfdbx3NLkOGE44raZoaB7dOxn5oY6GMoaNB5mVnTTss7bIa6ezHS8Udq-2ZeFIJ6rJO2zXHJEo4iSbRBhlT1nKBJ1pdKzxIZycsfNUNG3y4oI_Z-4CBD9H1M3Xk4YBWgk-QCgdhIc54LWYEvWAzXlLwXkDTuUQgT-jessj57CKrFcIo0UaTrxQtyuNBiHETGhzQj_4bRspxx3FjULwQW3Pe8hnBYKeOrOpDUvrkF8F5EYvoohFZABE9dj1eCfnSWcexPgak95BjYMPy_IKAq2rzOHuEJYOrCqkWvjMchPcQkwwzbD6UU4aDjgYdzGnWRTHy0Fgcbmcaw14EtV6RRSrOgPzJ5ZNQLTtA6uLmvyNDqMyck5Go2pr3medPBFutN-loz8iYI7K4j44b79hycYx9SVV2rYMEmqQ3N96MC6KOA2M-d3aQmNjtCFo3toI0hHP8gLRXEfzmpvCCg_raAbMkxXiZRRFiUxTaf7wsoHGV0-kDNWAPfYk1L9Zx2VU0xdLxBtMhlI8S3f_McThZGbEDS8xyzowkfNQ_5O9FfDBaVZNbiJNsg=w2220-h1086-no\", style=\"width: 100%; height: 100%\">\n",
    "\n"
   ]
  },
  {
   "cell_type": "markdown",
   "metadata": {},
   "source": [
    "<img src=\"\n",
    "https://lh3.googleusercontent.com/BDS-yLCsnSmG-9HYlvRhnceAva9q0ibnrRmuLnd3ILbmx3l6A1H45JrLrdheXWcs15NZE0jGPm6XEwIUC1xyb_yX43C4iXaMskoe0hlMpwRdf34dcIeVct5EIL48XTlNJxddW8wOKbsHnAQtAXCr_BrvSM4VY2EfRHJXpTVqJR7pIVYuCdZYHiJmCo_X0lKdwriinwDHwAcHGYfbhGpq4W2vvSMnmKVtbF2chuuRFn6WdKOGBv0Ht5K4OMOVczx71oOC4THu46Erogu7sYB90kol2E4sbKbZ8-goTfGanl6AOGulGf4qIWMTvEEgAK0VK27NNkQlBW4WkO-j_TVQMlcat30ND1c5YPifME3ZZDXGAq-yO4Cwr8NAdM6cDrqNX_yunp-3yqTpoM85Ase0rVYYoS5tHhQZCn0wHI2iAto_WWmM8pjy1UlJMf8paO1hxD74y6U41y4pCbmOQShCfsntn-TzdorCeIgkB5-VAUIFveGpy-4-iSYYwepPcc4-3ievdOTDE-JouDGioFfTqFe6rpnF4ERayCsf6xuNs1bR3U7XxFfYwccz4Dd_PQ_X-a1C0_-vLDB5wSevKl9MJcMEztQ3ak10MBElJ3Fpt2DhRWOTgibSrFDwsrJ3x6pNafhBC6PvgZ2mFXQyEq3f0NuNfBM_Xn3MgdGVXmTF3Q=w2219-h338-no\", style=\"width: 100%; height: 100%\">\n",
    "\n"
   ]
  },
  {
   "cell_type": "markdown",
   "metadata": {},
   "source": [
    "# Assessment and Success Metrics"
   ]
  },
  {
   "cell_type": "markdown",
   "metadata": {},
   "source": [
    "### A Measurement Problem\n",
    "\n",
    "The most challenging part of this process was defining a success metric.  Here are a few of the traditional ones that I considered, and why I decided to search for a better one:\n",
    "<BLOCKQUOTE>\n",
    "**Accuracy Rate** (1 - Error Rate) <br>Less useful in this situation than most, because of its high baseline: a blind prediction of \"0\" every time would lead to an approximately 82% \"accuracy rate\", since the majority of the target values were in fact zero. \n",
    "<br><br>\n",
    "**Type 1 and Type 2 Error Rates** <br>A little more useful, but it was difficult to define what sort of trade off between the two errors would be present in the best possible model. \n",
    "<br><br>\n",
    "**Precision and Sensitivity** <br>Promising yet still lacking, again because the optimal trade off between the two was difficult to define. \n",
    "</BLOCKQUOTE>"
   ]
  },
  {
   "cell_type": "markdown",
   "metadata": {},
   "source": [
    "### A Measurement Solution\n",
    "\n",
    "The underlying issue with all of the above metrics was that they did not directly describe the benefit to the user. Since my main goal was concrete usefulness to traveling Airbnb employees, I wanted a single straightforward metric to describe the models' utility to them.\n",
    "\n",
    "This led me to another realization: a simple binary classification prediction in itself was not the most useful output for the situation. More helpful would be a **stratified risk prediction**, with a small number of easily understandable levels:\n",
    "\n"
   ]
  },
  {
   "cell_type": "markdown",
   "metadata": {},
   "source": [
    "<blockquote>\n",
    "**Level A - Low Risk:** Delays are half as likely than average (or less)<br><br>\n",
    "**Level B - Medium Risk:** Average likelihood of delay (~18% across the dataset)<br><br>\n",
    "**Level C - High Risk:** Delays are at least twice as likely than average<br><br>\n",
    "**Level D - Very High Risk:** Delays are at least 3x more likely than average\n",
    "</blockquote>"
   ]
  },
  {
   "cell_type": "markdown",
   "metadata": {},
   "source": [
    "For users of the **Basic Model**, assigning each potential flight a risk factor would be helpful in booking decisions. Users could ask themselves how important avoiding delay was. For ordinary trips, perhaps an average level of risk would be fine, while for crucial appointments, only the lowest risk level would be acceptable. In other cases, perhaps a high risk level is a worthy tradeoff for other benefits, such as cheaper prices. \n",
    "\n",
    "For **Day-Of Model** users, a stratified risk level could help them decide whether they should send in a heads-up for potential delay, reschedule a meeting, or decide to stay home and try another day."
   ]
  },
  {
   "cell_type": "markdown",
   "metadata": {},
   "source": [
    "### The Most Successful Success Metric\n",
    "\n",
    "With a four-level prediction as the goal, a clear success metric emerged, which I called the **meaningful predictions** level.  This is the percentage of flights that a model categorized as either level A (low risk), C (high risk), or D (very high risk), since these are the risk levels that actually tell us something meaningful about the flights. This metric would be calculated as ***(A + C + D)/N***, where A, C, and D are the number of flight predictions in respective categories, and N is the total number of predictions.\n",
    "\n",
    "Another way to think about this is ***1 – (B / N)***, where B is the proportion of flights categorized as level B (medium risk). Level B predictions can be considered \"non-meaningful\", since telling a user that their flight has the same chance of lateness as the average of the entire dataset really doesn't tell them much at all.\n",
    "\n",
    "\n",
    "As a secondary set of metrics, the **level-specific sensitivities** could be described as follows:\n",
    "<blockquote>\n",
    "**For level A:**<br> The percentage of on-time flights successfully tagged as low-risk. <br> Calculated as ***(On-time flights in A)/(All on-time flights)***<br><br>\n",
    "\n",
    "**For levels C and D:**<br> The percentage of delayed flights successfully tagged as high risk or very high risk groups. <br> Calculated as ***(Delayed flights in C)/(All delayed flights)*** and ***(Delayed flights in D)/(All delayed flights)***\n",
    "</blockquote>\n",
    "\n",
    "Of course, a prerequisite for this metric is that the percentages of delays in each category are what they should be: **A:**~9%, **B:** ~18%, **C:** ~40%, **D:** ~60%+"
   ]
  },
  {
   "cell_type": "markdown",
   "metadata": {},
   "source": [
    "### Evaluation\n",
    "To evaluate models in terms of the above prerequisite and metrics, I created a function that would take a model and a train/test split, make predictions on the test set, and calculate the metrics. Here's the function, which we'll hold onto until we have something to evaluate.\n"
   ]
  },
  {
   "cell_type": "code",
   "execution_count": 7,
   "metadata": {
    "collapsed": true
   },
   "outputs": [],
   "source": [
    "###Evaluation function\n",
    "\n",
    "evaluateModel <- function(flight_model, dataset, train, test, vocal){\n",
    "  \n",
    "  test.Yvals = dataset$Y_ArrDel15[test]\n",
    "  \n",
    "  ###Use model to create predicted probabilities of lateness for test set\n",
    "  yhat = predict(flight_model, newdata=dataset[test,], type=\"prob\")\n",
    "  mean = mean(yhat[,2])\n",
    "  \n",
    "  ###Assign risk levels to flights based on predicted probability. Cut-offs selected through trial & error\n",
    "  yhat= ifelse(yhat<mean*4, ifelse(yhat<mean*1.5,ifelse(yhat<.7*mean,'A_Low', 'B_Medium'), 'C_High'), 'D_VeryHigh')\n",
    "  \n",
    "  ###Create confusion matrix\n",
    "  confusion = table(test.Yvals, yhat[,2], dnn=c(\"Delay\",\"Risk Level\"))\n",
    "  \n",
    "  ###If function was called in vocal mode, print confusion matrix, as integers and as percentages\n",
    "  if(vocal == TRUE)\n",
    "      {cat(\"_________________________________________________\\n\\nNumber of Flights\\n\\n\")\n",
    "        print(confusion)\n",
    "        cat(\"_________________________________________________\")\n",
    "        cat(\"\\n\\nPercent of Total Flights\\n\\n\")\n",
    "        print(round(confusion/sum(confusion)*100,1))\n",
    "        cat(\"_________________________________________________\\n\")}\n",
    "  \n",
    "  ###Calculate prerequisites and success metrics\n",
    "  \n",
    "  ##Prerequisites\n",
    "    \n",
    "  #Proportion of delays in group A\n",
    "  A_del = confusion[2]/(confusion[1]+confusion[2]) #delayed flights in A / all flights in A\n",
    "  A_del\n",
    "  \n",
    "  #Proportion of delays in group B\n",
    "  B_del = confusion[4]/(confusion[3]+confusion[4])  #delayed flights in B / all flights in B\n",
    "  B_del\n",
    "  \n",
    "  #Proportion of delays in group C\n",
    "  C_del = confusion[6]/(confusion[5]+confusion[6])  #delayed flights in C / all flights in C\n",
    "  C_del\n",
    "  \n",
    "  #Proportion of delays in group D\n",
    "  D_del = confusion[8]/(confusion[7]+confusion[8])  #delayed flights in D / all flights in D\n",
    "  D_del\n",
    "    \n",
    "  ## Success Metrics\n",
    "    \n",
    "  #Percent of on time arrivals flagged in A\n",
    "  A_sensitivity = confusion[1]/(confusion[1]+confusion[3]+confusion[5]+confusion[7]) #on-time flights in A / all on-time flights\n",
    "  A_sensitivity\n",
    "  \n",
    "  #Percent of delays flagged in C\n",
    "  C_sensitivity = confusion[6]/(confusion[2]+confusion[4]+confusion[6]+confusion[8]) #delayed flights in C / all delayed flights\n",
    "  C_sensitivity\n",
    "  \n",
    "  #Percent of delays flagged in D\n",
    "  D_sensitivity = confusion[8]/(confusion[2]+confusion[4]+confusion[6]+confusion[8]) #delayed flights in D / all delayed flights\n",
    "  D_sensitivity\n",
    "    \n",
    "  #Meaningful predictions   \n",
    "  Meaningful_preds = sum(confusion[c(1,2,5,6,7,8)])/sum(confusion) #flights in levels A,C,D / all flights\n",
    "  Meaningful_preds\n",
    "  \n",
    "  ###Collect and return results\n",
    "  newstats = data.frame(A_del, B_del, C_del, D_del, A_sensitivity, C_sensitivity, D_sensitivity, Meaningful_preds)\n",
    "  rownames(newstats) = deparse(substitute(flight_model))\n",
    "  return(round(newstats,4))\n",
    "  \n",
    "}"
   ]
  },
  {
   "cell_type": "markdown",
   "metadata": {},
   "source": [
    "### Cross Validation\n",
    "\n",
    "Another important aspect of evaluation would be cross validation, so I created a quick custom k-folds cross-validation function that would build and evaluate k models, and then find the average value and standard deviations for each of my custom metrics.\n"
   ]
  },
  {
   "cell_type": "code",
   "execution_count": 8,
   "metadata": {
    "collapsed": true
   },
   "outputs": [],
   "source": [
    "### Custom K-Fold Cross-Validation Function\n",
    "\n",
    "suppressWarnings(library(rpart))\n",
    "suppressWarnings(library(rpart.plot))\n",
    "\n",
    "crossVal <- function(dataset, k){\n",
    "  \n",
    "  #Create empty results dataframe\n",
    "  stats = data.frame(\"A_del\"=numeric(0),\"B_del\"=numeric(0), \"C_del\"=numeric(0),\"D_del\"=numeric(0), \"A_sensitivity\"=numeric(0),\"C_sensitivity\"=numeric(0), \"D_sensitivity\"=numeric(0),\"Meaningful_preds\"=numeric(0))\n",
    "  \n",
    "  #Shuffle the data\n",
    "  shuffled<-dataset[sample(nrow(dataset)),]\n",
    "  \n",
    "  #Create k equally size folds\n",
    "  folds <- cut(seq(1,nrow(dataset)),breaks=k,labels=FALSE)\n",
    "  \n",
    "  cat(\"\\n\")\n",
    "  \n",
    "  #Perform k fold cross validation\n",
    "  for(i in 1:k){\n",
    "    #Segement data by fold\n",
    "    test_indices <- which(folds==i,arr.ind=TRUE)\n",
    "    train_indices = setdiff(1:nrow(shuffled),test_indices)\n",
    "    \n",
    "    #Create decision tree model\n",
    "    usemodel = rpart(Y_ArrDel15~., data=shuffled, subset=train_indices, method = \"class\", cp = .00005, minsplit = 50) \n",
    "    \n",
    "    #Call evaluateModel function\n",
    "    newstats = evaluateModel(usemodel, shuffled, train_indices, test_indices, vocal = FALSE)\n",
    "      \n",
    "    #Add this model's stats to the raw results dataframe\n",
    "    stats = rbind(stats,newstats)\n",
    "    \n",
    "    #Print progress update\n",
    "    cat(\"Fold\", i, \"meaningful predictions: \",newstats$Meaningful_preds, \"\\n\")\n",
    "  }\n",
    "\n",
    "    #Calculate means and standard devations for each metric across the k models\n",
    "    mean_vals = apply(stats,2,mean)\n",
    "    sd_vals = apply(stats,2,sd)  \n",
    "\n",
    "    #Create dataframe of result summary from raw results\n",
    "    vals = rbind(mean_vals, sd_vals)\n",
    "    vals = round(vals,4)\n",
    "    rownames(vals) = c(\"Average\", \"St. Dev\")\n",
    "    rownames(stats) = c(1:k)\n",
    "\n",
    "  #Return results  \n",
    "  return(vals)\n",
    "}"
   ]
  },
  {
   "cell_type": "markdown",
   "metadata": {},
   "source": [
    "# Model Building\n",
    "\n"
   ]
  },
  {
   "cell_type": "markdown",
   "metadata": {},
   "source": [
    "### Choosing a Model Type\n",
    "\n",
    "Now it's time to actually build some models! Out of the four main types of models I tested, I was surprised to find that the most effective one was actually the simplest: **decision trees**, built using rpart. Using a more complex model might have been more ~impressive~, but I'm a big believer in parsimony when it comes to model building, and saw no reason for using something fancy when something simple would suffice.\n",
    "\n",
    "A brief overview of the issues with some other models I tested:\n",
    "<blockquote>\n",
    "**Random Forest:**<br> A close second to decision trees, with slightly more consistent outcomes, but very slow, and with results only a percent or two better. <br><br>\n",
    "\n",
    "**Gradient Boosting (gbm):**<br> Also very slow, and seemed overly \"cautious\", requiring a huge amount of trees before yielding any predictions that flights would be late.<br><br>\n",
    "\n",
    "**Support Vector Machines:**<br> Ran into memory errors, probably either due to the size of the data set, or the large number of levels in certain categorical variables.<br>\n",
    "</blockquote>\n",
    "\n",
    "***Note:***  *I haven't included my code here for these models, but would be happy to share it as an appendix.*"
   ]
  },
  {
   "cell_type": "markdown",
   "metadata": {},
   "source": [
    "### Building Decision Tree Models\n",
    "\n",
    "Creating the decision tree models was straightforward, with a little tinkering to hit on good complexity and minsplit levels. Below, the Basic and Day-Of models are created."
   ]
  },
  {
   "cell_type": "code",
   "execution_count": 9,
   "metadata": {},
   "outputs": [
    {
     "name": "stdout",
     "output_type": "stream",
     "text": [
      "Basic Model created in 26.46 seconds \n",
      "Day-Of Model created in 23.71 seconds \n"
     ]
    }
   ],
   "source": [
    "###Train/test split \n",
    "set.seed(500)\n",
    "train_indices = sample(1:nrow(dayofvars), nrow(dayofvars)*0.8)\n",
    "test_indices = setdiff(1:nrow(dayofvars),train_indices)\n",
    "\n",
    "###Create Basic Model\n",
    "start = proc.time()\n",
    "basic = rpart(Y_ArrDel15~., data=basicvars, subset=train_indices, method = \"class\", cp = .00005, minsplit = 50) \n",
    "basic.time = proc.time()-start\n",
    "cat(\"Basic Model created in\", basic.time[3], \"seconds \\n\")\n",
    "\n",
    "###Create Day-Of Model\n",
    "start = proc.time()\n",
    "dayof = rpart(Y_ArrDel15~., data=dayofvars, subset=train_indices, method = \"class\", cp = .00005, minsplit = 50) \n",
    "dayof.time = proc.time()-start\n",
    "cat(\"Day-Of Model created in\", dayof.time[3], \"seconds \\n\")\n"
   ]
  },
  {
   "cell_type": "markdown",
   "metadata": {},
   "source": [
    "# Examining & Evaluating the Models\n",
    "Before we evaluate the models, let's take a look at the basic structure of the decision trees they created."
   ]
  },
  {
   "cell_type": "code",
   "execution_count": 10,
   "metadata": {
    "scrolled": false
   },
   "outputs": [
    {
     "data": {
      "image/png": "[encoded data removed]",
      "text/plain": [
       "Plot with title \"Day-of Model Decision Tree\""
      ]
     },
     "metadata": {},
     "output_type": "display_data"
    }
   ],
   "source": [
    "### Plot the structure of the models' decision trees\n",
    "par(mfrow=c(1,2))\n",
    "plot(basic, main=\"Basic Model Decision Tree\")\n",
    "plot(dayof, main=\"Day-of Model Decision Tree\")\n"
   ]
  },
  {
   "cell_type": "markdown",
   "metadata": {},
   "source": [
    "It looks like the Basic Model has many variables with similar levels of importance, while the Day-Of Model has a single variable that impacts the decision much more than the rest. We can see what this variable is by plotting variable importance for both models."
   ]
  },
  {
   "cell_type": "code",
   "execution_count": 11,
   "metadata": {},
   "outputs": [
    {
     "data": {
      "image/png": "[encoded data removed]",
      "text/plain": [
       "Plot with title \"Variable Importance in Day-of Model\""
      ]
     },
     "metadata": {},
     "output_type": "display_data"
    }
   ],
   "source": [
    "###Examine Variable Importance\n",
    "par(mai=c(.5,2.5,.5,.1), mfrow=c(2,1))\n",
    "barplot(sort(basic$variable.importance),main=\"Variable Importance in Basic Model\", horiz=TRUE,las=1, cex.names = .8, cex.axis = .8)\n",
    "barplot(sort(dayof$variable.importance),main=\"Variable Importance in Day-of Model\", horiz=TRUE,las=1, cex.names = .8, cex.axis = .8)\n"
   ]
  },
  {
   "cell_type": "markdown",
   "metadata": {},
   "source": [
    "That single variable causing the major split in the Day-Of decision tree was **AircraftArrDel_3Before**, a binary variable describing whether the flight's assigned aircraft was delayed for its most recent arrival or departure, as of three hours before the flight.  This makes a lot of sense, since a plane that's running late for an earlier flight is likely to continue running behind schedule. We can only use this in the Day-Of Model, of course, not the Basic Model, because this information only becomes available once the plane is actually on the go that day."
   ]
  },
  {
   "cell_type": "markdown",
   "metadata": {},
   "source": [
    "Now we'll evaluate the models using the function defined earlier "
   ]
  },
  {
   "cell_type": "code",
   "execution_count": 12,
   "metadata": {},
   "outputs": [
    {
     "name": "stdout",
     "output_type": "stream",
     "text": [
      "\n",
      "Basic Model \n",
      "_________________________________________________\n",
      "\n",
      "Number of Flights\n",
      "\n",
      "     Risk Level\n",
      "Delay A_Low B_Medium C_High D_VeryHigh\n",
      "    0 10147    10309   1733         99\n",
      "    1  1168     2534   1197        284\n",
      "_________________________________________________\n",
      "\n",
      "Percent of Total Flights\n",
      "\n",
      "     Risk Level\n",
      "Delay A_Low B_Medium C_High D_VeryHigh\n",
      "    0  36.9     37.5    6.3        0.4\n",
      "    1   4.3      9.2    4.4        1.0\n",
      "_________________________________________________\n"
     ]
    },
    {
     "data": {
      "text/html": [
       "<table>\n",
       "<thead><tr><th></th><th scope=col>A_del</th><th scope=col>B_del</th><th scope=col>C_del</th><th scope=col>D_del</th><th scope=col>A_sensitivity</th><th scope=col>C_sensitivity</th><th scope=col>D_sensitivity</th><th scope=col>Meaningful_preds</th></tr></thead>\n",
       "<tbody>\n",
       "\t<tr><th scope=row>basic</th><td>0.1032</td><td>0.1973</td><td>0.4085</td><td>0.7415</td><td>0.4553</td><td>0.2309</td><td>0.0548</td><td>0.5325</td></tr>\n",
       "</tbody>\n",
       "</table>\n"
      ],
      "text/latex": [
       "\\begin{tabular}{r|llllllll}\n",
       "  & A\\_del & B\\_del & C\\_del & D\\_del & A\\_sensitivity & C\\_sensitivity & D\\_sensitivity & Meaningful\\_preds\\\\\n",
       "\\hline\n",
       "\tbasic & 0.1032 & 0.1973 & 0.4085 & 0.7415 & 0.4553 & 0.2309 & 0.0548 & 0.5325\\\\\n",
       "\\end{tabular}\n"
      ],
      "text/markdown": [
       "\n",
       "| <!--/--> | A_del | B_del | C_del | D_del | A_sensitivity | C_sensitivity | D_sensitivity | Meaningful_preds | \n",
       "|---|\n",
       "| basic | 0.1032 | 0.1973 | 0.4085 | 0.7415 | 0.4553 | 0.2309 | 0.0548 | 0.5325 | \n",
       "\n",
       "\n"
      ],
      "text/plain": [
       "      A_del  B_del  C_del  D_del  A_sensitivity C_sensitivity D_sensitivity\n",
       "basic 0.1032 0.1973 0.4085 0.7415 0.4553        0.2309        0.0548       \n",
       "      Meaningful_preds\n",
       "basic 0.5325          "
      ]
     },
     "metadata": {},
     "output_type": "display_data"
    },
    {
     "name": "stdout",
     "output_type": "stream",
     "text": [
      "\n",
      "Day-Of Model \n",
      "_________________________________________________\n",
      "\n",
      "Number of Flights\n",
      "\n",
      "     Risk Level\n",
      "Delay A_Low B_Medium C_High D_VeryHigh\n",
      "    0 15161     5429   1529        272\n",
      "    1  1672     1326   1359        723\n",
      "_________________________________________________\n",
      "\n",
      "Percent of Total Flights\n",
      "\n",
      "     Risk Level\n",
      "Delay A_Low B_Medium C_High D_VeryHigh\n",
      "    0  55.2     19.8    5.6        1.0\n",
      "    1   6.1      4.8    4.9        2.6\n",
      "_________________________________________________\n"
     ]
    },
    {
     "data": {
      "text/html": [
       "<table>\n",
       "<thead><tr><th></th><th scope=col>A_del</th><th scope=col>B_del</th><th scope=col>C_del</th><th scope=col>D_del</th><th scope=col>A_sensitivity</th><th scope=col>C_sensitivity</th><th scope=col>D_sensitivity</th><th scope=col>Meaningful_preds</th></tr></thead>\n",
       "<tbody>\n",
       "\t<tr><th scope=row>dayof</th><td>0.0993</td><td>0.1963</td><td>0.4706</td><td>0.7266</td><td>0.6771</td><td>0.2675</td><td>0.1423</td><td>0.7541</td></tr>\n",
       "</tbody>\n",
       "</table>\n"
      ],
      "text/latex": [
       "\\begin{tabular}{r|llllllll}\n",
       "  & A\\_del & B\\_del & C\\_del & D\\_del & A\\_sensitivity & C\\_sensitivity & D\\_sensitivity & Meaningful\\_preds\\\\\n",
       "\\hline\n",
       "\tdayof & 0.0993 & 0.1963 & 0.4706 & 0.7266 & 0.6771 & 0.2675 & 0.1423 & 0.7541\\\\\n",
       "\\end{tabular}\n"
      ],
      "text/markdown": [
       "\n",
       "| <!--/--> | A_del | B_del | C_del | D_del | A_sensitivity | C_sensitivity | D_sensitivity | Meaningful_preds | \n",
       "|---|\n",
       "| dayof | 0.0993 | 0.1963 | 0.4706 | 0.7266 | 0.6771 | 0.2675 | 0.1423 | 0.7541 | \n",
       "\n",
       "\n"
      ],
      "text/plain": [
       "      A_del  B_del  C_del  D_del  A_sensitivity C_sensitivity D_sensitivity\n",
       "dayof 0.0993 0.1963 0.4706 0.7266 0.6771        0.2675        0.1423       \n",
       "      Meaningful_preds\n",
       "dayof 0.7541          "
      ]
     },
     "metadata": {},
     "output_type": "display_data"
    },
    {
     "name": "stdout",
     "output_type": "stream",
     "text": [
      "\n",
      " Average delay level across all flights: 0.1863619"
     ]
    }
   ],
   "source": [
    "###Evaluate Basic Model\n",
    "cat(\"\\nBasic Model \\n\")\n",
    "basic_results = evaluateModel(basic, basicvars, train_indices, test_indices, vocal = TRUE)\n",
    "basic_results\n",
    "\n",
    "###Evaluate Day-Of Model\n",
    "cat(\"\\nDay-Of Model \\n\")\n",
    "dayof_results = evaluateModel(dayof, dayofvars, train_indices, test_indices, vocal = TRUE)\n",
    "dayof_results\n",
    "\n",
    "###Check average delay level\n",
    "cat(\"\\n Average delay level across all flights:\", mean(basicvars$Y_ArrDel15))"
   ]
  },
  {
   "cell_type": "markdown",
   "metadata": {},
   "source": [
    "**Prerequisite**<br> \n",
    "In the results tables, the first four measures describe the proportion of flights in each level that were delayed. This allows us to check if our prerequisite is fulfilled. We can see that it is successfully fulfilled for both models, as the delays levels are in fact approximately half the average for A, average for B, over twice the average for C, and over three times the average for D.\n",
    "\n",
    "In other words, if you take a flight in the \"Very High\" risk level, you really do have a very high risk of being delayed: over 70% for both models! And so on for each level.\n",
    "\n",
    "**Level Sensitivities**<br>\n",
    "The next three measures tell us how sensitive the models are when it comes to flagging on-time flights as low risk and delayed flights as high or very high risk. The two models had similar C_sensitivity scores (high risk), but the Day-Of model was much better at identifying low risk and very high risk flights.\n",
    "\n",
    "**Meaningful Predictions**<br>\n",
    "The last measure in each results tables reports our most important success metric, meaningful predictions. For the Basic and Day-Of models above, the respective values are ~53% and ~75%.\n",
    "\n",
    "This means that when using the Basic Model to book flights, travellers will have a good estimate of risk for about half the flights available to them, while the other half remain a mystery. This is pretty good, since the users don't really need to know the risk level of every single flight. They just need to book one, and it should be easy to choose one with a known risk level if half of all available flights have meaningful predictions.\n",
    "\n",
    "As for the Day-of Model, travelers on three fourths of flights will have a good idea of how likely their flight is to be delayed.  This number could actually be even higher, however, if we assume that earlier the traveller used the Basic Model to help book their flight, and chose one that the Basic Model was able to give a prediction for."
   ]
  },
  {
   "cell_type": "markdown",
   "metadata": {},
   "source": [
    "# Cross-Validating the Models"
   ]
  },
  {
   "cell_type": "markdown",
   "metadata": {},
   "source": [
    "To make sure that the results from the above models weren't just a fluke, let's run the cross validation function to find, on average, how much higher the level of meaningful predictions is for the Day-Of Model than the Basic Model. "
   ]
  },
  {
   "cell_type": "code",
   "execution_count": 13,
   "metadata": {},
   "outputs": [
    {
     "name": "stdout",
     "output_type": "stream",
     "text": [
      "\n",
      "Basic Model \n",
      "\n",
      "Fold 1 meaningful predictions:  0.5073 \n",
      "Fold 2 meaningful predictions:  0.5341 \n",
      "Fold 3 meaningful predictions:  0.4995 \n",
      "Fold 4 meaningful predictions:  0.4987 \n",
      "Fold 5 meaningful predictions:  0.5293 \n"
     ]
    },
    {
     "data": {
      "text/html": [
       "<table>\n",
       "<thead><tr><th></th><th scope=col>A_del</th><th scope=col>B_del</th><th scope=col>C_del</th><th scope=col>D_del</th><th scope=col>A_sensitivity</th><th scope=col>C_sensitivity</th><th scope=col>D_sensitivity</th><th scope=col>Meaningful_preds</th></tr></thead>\n",
       "<tbody>\n",
       "\t<tr><th scope=row>Average</th><td>0.1010</td><td>0.1918</td><td>0.4027</td><td>0.7251</td><td>0.4340</td><td>0.2294</td><td>0.0575</td><td>0.5138</td></tr>\n",
       "\t<tr><th scope=row>St. Dev</th><td>0.0033</td><td>0.0063</td><td>0.0024</td><td>0.0242</td><td>0.0191</td><td>0.0058</td><td>0.0056</td><td>0.0168</td></tr>\n",
       "</tbody>\n",
       "</table>\n"
      ],
      "text/latex": [
       "\\begin{tabular}{r|llllllll}\n",
       "  & A\\_del & B\\_del & C\\_del & D\\_del & A\\_sensitivity & C\\_sensitivity & D\\_sensitivity & Meaningful\\_preds\\\\\n",
       "\\hline\n",
       "\tAverage & 0.1010 & 0.1918 & 0.4027 & 0.7251 & 0.4340 & 0.2294 & 0.0575 & 0.5138\\\\\n",
       "\tSt. Dev & 0.0033 & 0.0063 & 0.0024 & 0.0242 & 0.0191 & 0.0058 & 0.0056 & 0.0168\\\\\n",
       "\\end{tabular}\n"
      ],
      "text/markdown": [
       "\n",
       "| <!--/--> | A_del | B_del | C_del | D_del | A_sensitivity | C_sensitivity | D_sensitivity | Meaningful_preds | \n",
       "|---|---|\n",
       "| Average | 0.1010 | 0.1918 | 0.4027 | 0.7251 | 0.4340 | 0.2294 | 0.0575 | 0.5138 | \n",
       "| St. Dev | 0.0033 | 0.0063 | 0.0024 | 0.0242 | 0.0191 | 0.0058 | 0.0056 | 0.0168 | \n",
       "\n",
       "\n"
      ],
      "text/plain": [
       "        A_del  B_del  C_del  D_del  A_sensitivity C_sensitivity D_sensitivity\n",
       "Average 0.1010 0.1918 0.4027 0.7251 0.4340        0.2294        0.0575       \n",
       "St. Dev 0.0033 0.0063 0.0024 0.0242 0.0191        0.0058        0.0056       \n",
       "        Meaningful_preds\n",
       "Average 0.5138          \n",
       "St. Dev 0.0168          "
      ]
     },
     "metadata": {},
     "output_type": "display_data"
    },
    {
     "name": "stdout",
     "output_type": "stream",
     "text": [
      "\n",
      "Day-Of Model \n",
      "\n",
      "Fold 1 meaningful predictions:  0.7038 \n",
      "Fold 2 meaningful predictions:  0.6646 \n",
      "Fold 3 meaningful predictions:  0.7234 \n",
      "Fold 4 meaningful predictions:  0.7357 \n",
      "Fold 5 meaningful predictions:  0.6979 \n"
     ]
    },
    {
     "data": {
      "text/html": [
       "<table>\n",
       "<thead><tr><th></th><th scope=col>A_del</th><th scope=col>B_del</th><th scope=col>C_del</th><th scope=col>D_del</th><th scope=col>A_sensitivity</th><th scope=col>C_sensitivity</th><th scope=col>D_sensitivity</th><th scope=col>Meaningful_preds</th></tr></thead>\n",
       "<tbody>\n",
       "\t<tr><th scope=row>Average</th><td>0.0979</td><td>0.1911</td><td>0.4665</td><td>0.7131</td><td>0.6298</td><td>0.2358</td><td>0.1639</td><td>0.7051</td></tr>\n",
       "\t<tr><th scope=row>St. Dev</th><td>0.0016</td><td>0.0076</td><td>0.0077</td><td>0.0171</td><td>0.0263</td><td>0.0133</td><td>0.0057</td><td>0.0272</td></tr>\n",
       "</tbody>\n",
       "</table>\n"
      ],
      "text/latex": [
       "\\begin{tabular}{r|llllllll}\n",
       "  & A\\_del & B\\_del & C\\_del & D\\_del & A\\_sensitivity & C\\_sensitivity & D\\_sensitivity & Meaningful\\_preds\\\\\n",
       "\\hline\n",
       "\tAverage & 0.0979 & 0.1911 & 0.4665 & 0.7131 & 0.6298 & 0.2358 & 0.1639 & 0.7051\\\\\n",
       "\tSt. Dev & 0.0016 & 0.0076 & 0.0077 & 0.0171 & 0.0263 & 0.0133 & 0.0057 & 0.0272\\\\\n",
       "\\end{tabular}\n"
      ],
      "text/markdown": [
       "\n",
       "| <!--/--> | A_del | B_del | C_del | D_del | A_sensitivity | C_sensitivity | D_sensitivity | Meaningful_preds | \n",
       "|---|---|\n",
       "| Average | 0.0979 | 0.1911 | 0.4665 | 0.7131 | 0.6298 | 0.2358 | 0.1639 | 0.7051 | \n",
       "| St. Dev | 0.0016 | 0.0076 | 0.0077 | 0.0171 | 0.0263 | 0.0133 | 0.0057 | 0.0272 | \n",
       "\n",
       "\n"
      ],
      "text/plain": [
       "        A_del  B_del  C_del  D_del  A_sensitivity C_sensitivity D_sensitivity\n",
       "Average 0.0979 0.1911 0.4665 0.7131 0.6298        0.2358        0.1639       \n",
       "St. Dev 0.0016 0.0076 0.0077 0.0171 0.0263        0.0133        0.0057       \n",
       "        Meaningful_preds\n",
       "Average 0.7051          \n",
       "St. Dev 0.0272          "
      ]
     },
     "metadata": {},
     "output_type": "display_data"
    }
   ],
   "source": [
    "###Cross Validate\n",
    "cat(\"\\nBasic Model \\n\")\n",
    "basic_crossval = crossVal(basicvars,5)\n",
    "basic_crossval\n",
    "\n",
    "cat(\"\\nDay-Of Model \\n\")\n",
    "dayof_crossval = crossVal(dayofvars,5)\n",
    "dayof_crossval\n"
   ]
  },
  {
   "cell_type": "markdown",
   "metadata": {},
   "source": [
    "Looking at the standard devations of the measures, we can get a sense of the models' variance. For some modeling situations, it might be worth putting a lot of effort to reduce variance, potentially turning to slower models such as random forests. In our case, however, Airbnb employees will likely be more positively impacted by the efficiency of a quick model, rather than the consistancy of a slower, low-variance one.\n"
   ]
  },
  {
   "cell_type": "markdown",
   "metadata": {},
   "source": [
    "As a final step of analysis, let's look at the the two models' average results from cross-validation, side by side."
   ]
  },
  {
   "cell_type": "code",
   "execution_count": 14,
   "metadata": {},
   "outputs": [
    {
     "data": {
      "text/html": [
       "<table>\n",
       "<thead><tr><th></th><th scope=col>A_del</th><th scope=col>B_del</th><th scope=col>C_del</th><th scope=col>D_del</th><th scope=col>A_sensitivity</th><th scope=col>C_sensitivity</th><th scope=col>D_sensitivity</th><th scope=col>Meaningful_preds</th></tr></thead>\n",
       "<tbody>\n",
       "\t<tr><th scope=row>Basic</th><td>0.1010</td><td>0.1918</td><td>0.4027</td><td>0.7251</td><td>0.4340</td><td>0.2294</td><td>0.0575</td><td>0.5138</td></tr>\n",
       "\t<tr><th scope=row>Day-Of</th><td>0.0979</td><td>0.1911</td><td>0.4665</td><td>0.7131</td><td>0.6298</td><td>0.2358</td><td>0.1639</td><td>0.7051</td></tr>\n",
       "</tbody>\n",
       "</table>\n"
      ],
      "text/latex": [
       "\\begin{tabular}{r|llllllll}\n",
       "  & A\\_del & B\\_del & C\\_del & D\\_del & A\\_sensitivity & C\\_sensitivity & D\\_sensitivity & Meaningful\\_preds\\\\\n",
       "\\hline\n",
       "\tBasic & 0.1010 & 0.1918 & 0.4027 & 0.7251 & 0.4340 & 0.2294 & 0.0575 & 0.5138\\\\\n",
       "\tDay-Of & 0.0979 & 0.1911 & 0.4665 & 0.7131 & 0.6298 & 0.2358 & 0.1639 & 0.7051\\\\\n",
       "\\end{tabular}\n"
      ],
      "text/markdown": [
       "\n",
       "| <!--/--> | A_del | B_del | C_del | D_del | A_sensitivity | C_sensitivity | D_sensitivity | Meaningful_preds | \n",
       "|---|---|\n",
       "| Basic | 0.1010 | 0.1918 | 0.4027 | 0.7251 | 0.4340 | 0.2294 | 0.0575 | 0.5138 | \n",
       "| Day-Of | 0.0979 | 0.1911 | 0.4665 | 0.7131 | 0.6298 | 0.2358 | 0.1639 | 0.7051 | \n",
       "\n",
       "\n"
      ],
      "text/plain": [
       "       A_del  B_del  C_del  D_del  A_sensitivity C_sensitivity D_sensitivity\n",
       "Basic  0.1010 0.1918 0.4027 0.7251 0.4340        0.2294        0.0575       \n",
       "Day-Of 0.0979 0.1911 0.4665 0.7131 0.6298        0.2358        0.1639       \n",
       "       Meaningful_preds\n",
       "Basic  0.5138          \n",
       "Day-Of 0.7051          "
      ]
     },
     "metadata": {},
     "output_type": "display_data"
    }
   ],
   "source": [
    "###Compare\n",
    "comparison = rbind(basic_crossval[1,],dayof_crossval[1,]) \n",
    "rownames(comparison) = c(\"Basic\", \"Day-Of\")\n",
    "comparison"
   ]
  },
  {
   "cell_type": "markdown",
   "metadata": {},
   "source": [
    "On average, both models provide value to users, with the Day-Of Model showing major increases in Level A sensitivity, Level D sensitivity. In terms of meaningful predictions, the Day-Of Model's level is about 20 percentage points higher than the Basic Model."
   ]
  },
  {
   "cell_type": "markdown",
   "metadata": {},
   "source": [
    "# Further Improvements"
   ]
  },
  {
   "cell_type": "markdown",
   "metadata": {},
   "source": [
    "Following a \"done is better than perfect\" mentality, I decided to wrap up the project here, despite having a lot of ideas for further improvements and other things to try. A few things that I would implement if I were to continue spending time on this project would be:\n",
    "\n",
    "- Pruning! I decided not to get into it at the moment because the results were already quite successful, and the standard pruning function hinges on traditional success measures, rather than my custom ones.<br><br>\n",
    "- Train the model with data from more than the past 24 months. To keep the dataset a manageble size, I only downloaded data from April 2015 - March 2017.  This limited time span is probably the biggest limitation of my model, as is. <br><br>\n",
    "- Try out feature selection and dimensionality reduction methods (e.g., PCA) that could lower run-time, making random forest or boosting methods more useable. <br><br>\n",
    "- Incorporate *predicted* future weather conditions into the Basic Model.<br><br>\n",
    "- Expand the dataset to include flights to and from more cities, or narrow it to just one origin, with many destinations, or vice versa. Or pick another tech company with multiple US offices, and build a model specifically for those cities. See how they compare to these ones.<br><br>\n",
    "- Create a Day-Of Model with an \"hours before flight\" parameter, rather than a static three-hour setting. The eventual goal of a full-fledged tool would be real-time predictions.<br><br>\n",
    "- Add an \"Acceptable Delay\" parameter to the models. Perhaps a traveller is fine with a 15 minute delay, but anything more than 30 minutes is unacceptable. Adding this parameter would require using the ArrDelMin (minutes delayed) variable from the original dataset to create a new Y variable based on the parameter, rather than using the current 15-minute one, precalculated by the DOT.\n",
    "\n"
   ]
  }
 ],
 "metadata": {
  "kernelspec": {
   "display_name": "R",
   "language": "R",
   "name": "ir"
  },
  "language_info": {
   "codemirror_mode": "r",
   "file_extension": ".r",
   "mimetype": "text/x-r-source",
   "name": "R",
   "pygments_lexer": "r",
   "version": "3.3.2"
  }
 },
 "nbformat": 4,
 "nbformat_minor": 1
}
